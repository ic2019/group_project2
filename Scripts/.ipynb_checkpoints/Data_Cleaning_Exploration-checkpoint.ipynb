{
 "cells": [
  {
   "cell_type": "code",
   "execution_count": 5,
   "metadata": {},
   "outputs": [],
   "source": [
    "# importing the libraries\n",
    "import pandas as pd"
   ]
  },
  {
   "cell_type": "code",
   "execution_count": 7,
   "metadata": {},
   "outputs": [],
   "source": [
    "# Reading the fortune1000 data into a Pandas dataframe\n",
    "original_fortune_data = pd.read_csv(\"../DataSets/fortune1000-final.csv\", encoding = \"ISO-8859-1\")"
   ]
  },
  {
   "cell_type": "code",
   "execution_count": 11,
   "metadata": {},
   "outputs": [
    {
     "data": {
      "text/plain": [
       "(1000, 19)"
      ]
     },
     "execution_count": 11,
     "metadata": {},
     "output_type": "execute_result"
    }
   ],
   "source": [
    "# Finding the size of the data\n",
    "original_fortune_data.shape"
   ]
  },
  {
   "cell_type": "code",
   "execution_count": 37,
   "metadata": {},
   "outputs": [
    {
     "data": {
      "text/html": [
       "<div>\n",
       "<style scoped>\n",
       "    .dataframe tbody tr th:only-of-type {\n",
       "        vertical-align: middle;\n",
       "    }\n",
       "\n",
       "    .dataframe tbody tr th {\n",
       "        vertical-align: top;\n",
       "    }\n",
       "\n",
       "    .dataframe thead th {\n",
       "        text-align: right;\n",
       "    }\n",
       "</style>\n",
       "<table border=\"1\" class=\"dataframe\">\n",
       "  <thead>\n",
       "    <tr style=\"text-align: right;\">\n",
       "      <th></th>\n",
       "      <th>rank</th>\n",
       "      <th>title</th>\n",
       "      <th>Previous Rank</th>\n",
       "      <th>Revenues ($M)</th>\n",
       "      <th>Revenue Change</th>\n",
       "      <th>Profits ($M)</th>\n",
       "      <th>Profit Change</th>\n",
       "      <th>Assets ($M)</th>\n",
       "      <th>Mkt Value as of 3/29/18 ($M)</th>\n",
       "      <th>Employees</th>\n",
       "      <th>CEO</th>\n",
       "      <th>CEO Title</th>\n",
       "      <th>Sector</th>\n",
       "      <th>Industry</th>\n",
       "      <th>Years on Fortune 500 List</th>\n",
       "      <th>City</th>\n",
       "      <th>State</th>\n",
       "      <th>Latitude</th>\n",
       "      <th>Longitude</th>\n",
       "    </tr>\n",
       "  </thead>\n",
       "  <tbody>\n",
       "    <tr>\n",
       "      <th>96</th>\n",
       "      <td>97</td>\n",
       "      <td>3M</td>\n",
       "      <td>94</td>\n",
       "      <td>$31,657</td>\n",
       "      <td>5.10%</td>\n",
       "      <td>$4,858.00</td>\n",
       "      <td>-3.80%</td>\n",
       "      <td>$37,987</td>\n",
       "      <td>$130,550</td>\n",
       "      <td>91,536</td>\n",
       "      <td>Inge G. Thulin</td>\n",
       "      <td>Chairman, President &amp;  Chief Executive Officer</td>\n",
       "      <td>Industrials</td>\n",
       "      <td>Miscellaneous</td>\n",
       "      <td>24</td>\n",
       "      <td>St Paul</td>\n",
       "      <td>MN</td>\n",
       "      <td>44.953703</td>\n",
       "      <td>-93.089958</td>\n",
       "    </tr>\n",
       "    <tr>\n",
       "      <th>403</th>\n",
       "      <td>404</td>\n",
       "      <td>A-Mark Precious Metals</td>\n",
       "      <td>395</td>\n",
       "      <td>$6,990</td>\n",
       "      <td>3.00%</td>\n",
       "      <td>$7.10</td>\n",
       "      <td>-23.60%</td>\n",
       "      <td>$479</td>\n",
       "      <td>$86</td>\n",
       "      <td>126</td>\n",
       "      <td>Gregory N. Roberts</td>\n",
       "      <td>Chairman &amp;  Chief Executive Officer</td>\n",
       "      <td>Materials</td>\n",
       "      <td>Miscellaneous</td>\n",
       "      <td>4</td>\n",
       "      <td>El Segundo</td>\n",
       "      <td>CA</td>\n",
       "      <td>33.919180</td>\n",
       "      <td>-118.416465</td>\n",
       "    </tr>\n",
       "    <tr>\n",
       "      <th>497</th>\n",
       "      <td>498</td>\n",
       "      <td>ABM Industries</td>\n",
       "      <td>500</td>\n",
       "      <td>$5,454</td>\n",
       "      <td>6.00%</td>\n",
       "      <td>$3.80</td>\n",
       "      <td>-93.40%</td>\n",
       "      <td>$3,813</td>\n",
       "      <td>$2,200</td>\n",
       "      <td>140,000</td>\n",
       "      <td>Scott B. Salmirs</td>\n",
       "      <td>President, Chief Executive Officer &amp;  Director</td>\n",
       "      <td>Business Services</td>\n",
       "      <td>Diversified Outsourcing Services</td>\n",
       "      <td>3</td>\n",
       "      <td>New York</td>\n",
       "      <td>NY</td>\n",
       "      <td>40.712775</td>\n",
       "      <td>-74.005973</td>\n",
       "    </tr>\n",
       "    <tr>\n",
       "      <th>242</th>\n",
       "      <td>243</td>\n",
       "      <td>ADP</td>\n",
       "      <td>240</td>\n",
       "      <td>$12,380</td>\n",
       "      <td>6.10%</td>\n",
       "      <td>$1,733.40</td>\n",
       "      <td>16.10%</td>\n",
       "      <td>$37,180</td>\n",
       "      <td>$50,302</td>\n",
       "      <td>58,000</td>\n",
       "      <td>Carlos A. Rodriguez</td>\n",
       "      <td>President, Chief Executive Officer &amp;  Director</td>\n",
       "      <td>Business Services</td>\n",
       "      <td>Diversified Outsourcing Services</td>\n",
       "      <td>24</td>\n",
       "      <td>Roseland</td>\n",
       "      <td>NJ</td>\n",
       "      <td>40.820656</td>\n",
       "      <td>-74.293759</td>\n",
       "    </tr>\n",
       "    <tr>\n",
       "      <th>163</th>\n",
       "      <td>164</td>\n",
       "      <td>AECOM</td>\n",
       "      <td>161</td>\n",
       "      <td>$18,203</td>\n",
       "      <td>4.60%</td>\n",
       "      <td>$339.40</td>\n",
       "      <td>253.10%</td>\n",
       "      <td>$14,397</td>\n",
       "      <td>$5,671</td>\n",
       "      <td>87,000</td>\n",
       "      <td>Michael S. Burke</td>\n",
       "      <td>Chairman &amp;  Chief Executive Officer</td>\n",
       "      <td>Engineering &amp;  Construction</td>\n",
       "      <td>Engineering, Construction</td>\n",
       "      <td>10</td>\n",
       "      <td>Los Angeles</td>\n",
       "      <td>CA</td>\n",
       "      <td>34.052234</td>\n",
       "      <td>-118.243685</td>\n",
       "    </tr>\n",
       "  </tbody>\n",
       "</table>\n",
       "</div>"
      ],
      "text/plain": [
       "     rank                   title Previous Rank Revenues ($M) Revenue Change  \\\n",
       "96     97                      3M            94      $31,657           5.10%   \n",
       "403   404  A-Mark Precious Metals           395       $6,990           3.00%   \n",
       "497   498          ABM Industries           500       $5,454           6.00%   \n",
       "242   243                     ADP           240      $12,380           6.10%   \n",
       "163   164                   AECOM           161      $18,203           4.60%   \n",
       "\n",
       "    Profits ($M) Profit Change Assets ($M) Mkt Value as of 3/29/18 ($M)  \\\n",
       "96    $4,858.00         -3.80%    $37,987                     $130,550    \n",
       "403       $7.10        -23.60%       $479                          $86    \n",
       "497       $3.80        -93.40%     $3,813                       $2,200    \n",
       "242   $1,733.40         16.10%    $37,180                      $50,302    \n",
       "163     $339.40        253.10%    $14,397                       $5,671    \n",
       "\n",
       "    Employees                  CEO  \\\n",
       "96     91,536       Inge G. Thulin   \n",
       "403       126   Gregory N. Roberts   \n",
       "497   140,000     Scott B. Salmirs   \n",
       "242    58,000  Carlos A. Rodriguez   \n",
       "163    87,000     Michael S. Burke   \n",
       "\n",
       "                                          CEO Title  \\\n",
       "96   Chairman, President &  Chief Executive Officer   \n",
       "403             Chairman &  Chief Executive Officer   \n",
       "497  President, Chief Executive Officer &  Director   \n",
       "242  President, Chief Executive Officer &  Director   \n",
       "163             Chairman &  Chief Executive Officer   \n",
       "\n",
       "                          Sector                          Industry  \\\n",
       "96                   Industrials                     Miscellaneous   \n",
       "403                    Materials                     Miscellaneous   \n",
       "497            Business Services  Diversified Outsourcing Services   \n",
       "242            Business Services  Diversified Outsourcing Services   \n",
       "163  Engineering &  Construction         Engineering, Construction   \n",
       "\n",
       "    Years on Fortune 500 List         City State   Latitude   Longitude  \n",
       "96                         24      St Paul    MN  44.953703  -93.089958  \n",
       "403                         4   El Segundo    CA  33.919180 -118.416465  \n",
       "497                         3     New York    NY  40.712775  -74.005973  \n",
       "242                        24     Roseland    NJ  40.820656  -74.293759  \n",
       "163                        10  Los Angeles    CA  34.052234 -118.243685  "
      ]
     },
     "execution_count": 37,
     "metadata": {},
     "output_type": "execute_result"
    }
   ],
   "source": [
    "# Viewing records\n",
    "#extracting top 500 rank companies\n",
    "original_fortune_data = original_fortune_data[original_fortune_data[\"rank\"] < 501]\n",
    "original_fortune_data.head()"
   ]
  },
  {
   "cell_type": "code",
   "execution_count": 9,
   "metadata": {},
   "outputs": [
    {
     "name": "stdout",
     "output_type": "stream",
     "text": [
      "<class 'pandas.core.frame.DataFrame'>\n",
      "RangeIndex: 1000 entries, 0 to 999\n",
      "Data columns (total 19 columns):\n",
      "rank                            1000 non-null int64\n",
      "title                           1000 non-null object\n",
      "Previous Rank                   938 non-null object\n",
      "Revenues ($M)                   1000 non-null object\n",
      "Revenue Change                  1000 non-null object\n",
      "Profits ($M)                    1000 non-null object\n",
      "Profit Change                   1000 non-null object\n",
      "Assets ($M)                     1000 non-null object\n",
      "Mkt Value as of 3/29/18 ($M)    1000 non-null object\n",
      "Employees                       1000 non-null object\n",
      "CEO                             1000 non-null object\n",
      "CEO Title                       1000 non-null object\n",
      "Sector                          1000 non-null object\n",
      "Industry                        1000 non-null object\n",
      "Years on Fortune 500 List       1000 non-null object\n",
      "City                            999 non-null object\n",
      "State                           1000 non-null object\n",
      "Latitude                        1000 non-null float64\n",
      "Longitude                       1000 non-null float64\n",
      "dtypes: float64(2), int64(1), object(16)\n",
      "memory usage: 148.6+ KB\n"
     ]
    }
   ],
   "source": [
    "original_fortune_data.info()"
   ]
  },
  {
   "cell_type": "code",
   "execution_count": 35,
   "metadata": {},
   "outputs": [
    {
     "data": {
      "text/plain": [
       "(505, 2)"
      ]
     },
     "execution_count": 35,
     "metadata": {},
     "output_type": "execute_result"
    }
   ],
   "source": [
    "# reading the S & P data\n",
    "s_and_p_data = pd.read_csv(\"../DataSets/constituents_csv.csv\", encoding = \"ISO-8859-1\")\n",
    "s_and_p_data = s_and_p_data[[\"Symbol\", \"Name\"]]\n",
    "s_and_p_data.columns = ['stock', 'title']\n",
    "s_and_p_data.shape"
   ]
  },
  {
   "cell_type": "code",
   "execution_count": 26,
   "metadata": {},
   "outputs": [
    {
     "data": {
      "text/html": [
       "<div>\n",
       "<style scoped>\n",
       "    .dataframe tbody tr th:only-of-type {\n",
       "        vertical-align: middle;\n",
       "    }\n",
       "\n",
       "    .dataframe tbody tr th {\n",
       "        vertical-align: top;\n",
       "    }\n",
       "\n",
       "    .dataframe thead th {\n",
       "        text-align: right;\n",
       "    }\n",
       "</style>\n",
       "<table border=\"1\" class=\"dataframe\">\n",
       "  <thead>\n",
       "    <tr style=\"text-align: right;\">\n",
       "      <th></th>\n",
       "      <th>stock</th>\n",
       "      <th>title</th>\n",
       "    </tr>\n",
       "  </thead>\n",
       "  <tbody>\n",
       "    <tr>\n",
       "      <th>0</th>\n",
       "      <td>MMM</td>\n",
       "      <td>3M Company</td>\n",
       "    </tr>\n",
       "    <tr>\n",
       "      <th>1</th>\n",
       "      <td>AOS</td>\n",
       "      <td>A.O. Smith Corp</td>\n",
       "    </tr>\n",
       "    <tr>\n",
       "      <th>2</th>\n",
       "      <td>ABT</td>\n",
       "      <td>Abbott Laboratories</td>\n",
       "    </tr>\n",
       "    <tr>\n",
       "      <th>3</th>\n",
       "      <td>ABBV</td>\n",
       "      <td>AbbVie Inc.</td>\n",
       "    </tr>\n",
       "    <tr>\n",
       "      <th>4</th>\n",
       "      <td>ACN</td>\n",
       "      <td>Accenture plc</td>\n",
       "    </tr>\n",
       "  </tbody>\n",
       "</table>\n",
       "</div>"
      ],
      "text/plain": [
       "  stock                title\n",
       "0   MMM           3M Company\n",
       "1   AOS      A.O. Smith Corp\n",
       "2   ABT  Abbott Laboratories\n",
       "3  ABBV          AbbVie Inc.\n",
       "4   ACN        Accenture plc"
      ]
     },
     "execution_count": 26,
     "metadata": {},
     "output_type": "execute_result"
    }
   ],
   "source": [
    "s_and_p_data.head()"
   ]
  },
  {
   "cell_type": "code",
   "execution_count": 38,
   "metadata": {},
   "outputs": [
    {
     "ename": "TypeError",
     "evalue": "No matching signature found",
     "output_type": "error",
     "traceback": [
      "\u001b[1;31m---------------------------------------------------------------------------\u001b[0m",
      "\u001b[1;31mTypeError\u001b[0m                                 Traceback (most recent call last)",
      "\u001b[1;32m<ipython-input-38-80007f153aa5>\u001b[0m in \u001b[0;36m<module>\u001b[1;34m\u001b[0m\n\u001b[0;32m      2\u001b[0m \u001b[0moriginal_fortune_data\u001b[0m \u001b[1;33m=\u001b[0m \u001b[0moriginal_fortune_data\u001b[0m\u001b[1;33m.\u001b[0m\u001b[0msort_values\u001b[0m\u001b[1;33m(\u001b[0m\u001b[0mby\u001b[0m\u001b[1;33m=\u001b[0m\u001b[1;33m[\u001b[0m\u001b[1;34m'title'\u001b[0m\u001b[1;33m]\u001b[0m\u001b[1;33m)\u001b[0m\u001b[1;33m\u001b[0m\u001b[1;33m\u001b[0m\u001b[0m\n\u001b[0;32m      3\u001b[0m \u001b[0ms_and_p_data\u001b[0m \u001b[1;33m=\u001b[0m \u001b[0ms_and_p_data\u001b[0m\u001b[1;33m.\u001b[0m\u001b[0msort_values\u001b[0m\u001b[1;33m(\u001b[0m\u001b[0mby\u001b[0m\u001b[1;33m=\u001b[0m\u001b[1;33m[\u001b[0m\u001b[1;34m'title'\u001b[0m\u001b[1;33m]\u001b[0m\u001b[1;33m)\u001b[0m\u001b[1;33m\u001b[0m\u001b[1;33m\u001b[0m\u001b[0m\n\u001b[1;32m----> 4\u001b[1;33m \u001b[0mmerged_fortune_data\u001b[0m \u001b[1;33m=\u001b[0m \u001b[0mpd\u001b[0m\u001b[1;33m.\u001b[0m\u001b[0mmerge_asof\u001b[0m\u001b[1;33m(\u001b[0m\u001b[0moriginal_fortune_data\u001b[0m\u001b[1;33m,\u001b[0m \u001b[0ms_and_p_data\u001b[0m\u001b[1;33m,\u001b[0m \u001b[0mon\u001b[0m \u001b[1;33m=\u001b[0m \u001b[1;34m'title'\u001b[0m \u001b[1;33m,\u001b[0m \u001b[0mdirection\u001b[0m\u001b[1;33m=\u001b[0m\u001b[1;34m'nearest'\u001b[0m\u001b[1;33m)\u001b[0m\u001b[1;33m\u001b[0m\u001b[1;33m\u001b[0m\u001b[0m\n\u001b[0m",
      "\u001b[1;32m~\\Anaconda3\\envs\\pythonenv37\\lib\\site-packages\\pandas\\core\\reshape\\merge.py\u001b[0m in \u001b[0;36mmerge_asof\u001b[1;34m(left, right, on, left_on, right_on, left_index, right_index, by, left_by, right_by, suffixes, tolerance, allow_exact_matches, direction)\u001b[0m\n\u001b[0;32m    540\u001b[0m         \u001b[0mdirection\u001b[0m\u001b[1;33m=\u001b[0m\u001b[0mdirection\u001b[0m\u001b[1;33m,\u001b[0m\u001b[1;33m\u001b[0m\u001b[1;33m\u001b[0m\u001b[0m\n\u001b[0;32m    541\u001b[0m     )\n\u001b[1;32m--> 542\u001b[1;33m     \u001b[1;32mreturn\u001b[0m \u001b[0mop\u001b[0m\u001b[1;33m.\u001b[0m\u001b[0mget_result\u001b[0m\u001b[1;33m(\u001b[0m\u001b[1;33m)\u001b[0m\u001b[1;33m\u001b[0m\u001b[1;33m\u001b[0m\u001b[0m\n\u001b[0m\u001b[0;32m    543\u001b[0m \u001b[1;33m\u001b[0m\u001b[0m\n\u001b[0;32m    544\u001b[0m \u001b[1;33m\u001b[0m\u001b[0m\n",
      "\u001b[1;32m~\\Anaconda3\\envs\\pythonenv37\\lib\\site-packages\\pandas\\core\\reshape\\merge.py\u001b[0m in \u001b[0;36mget_result\u001b[1;34m(self)\u001b[0m\n\u001b[0;32m   1447\u001b[0m \u001b[1;33m\u001b[0m\u001b[0m\n\u001b[0;32m   1448\u001b[0m     \u001b[1;32mdef\u001b[0m \u001b[0mget_result\u001b[0m\u001b[1;33m(\u001b[0m\u001b[0mself\u001b[0m\u001b[1;33m)\u001b[0m\u001b[1;33m:\u001b[0m\u001b[1;33m\u001b[0m\u001b[1;33m\u001b[0m\u001b[0m\n\u001b[1;32m-> 1449\u001b[1;33m         \u001b[0mjoin_index\u001b[0m\u001b[1;33m,\u001b[0m \u001b[0mleft_indexer\u001b[0m\u001b[1;33m,\u001b[0m \u001b[0mright_indexer\u001b[0m \u001b[1;33m=\u001b[0m \u001b[0mself\u001b[0m\u001b[1;33m.\u001b[0m\u001b[0m_get_join_info\u001b[0m\u001b[1;33m(\u001b[0m\u001b[1;33m)\u001b[0m\u001b[1;33m\u001b[0m\u001b[1;33m\u001b[0m\u001b[0m\n\u001b[0m\u001b[0;32m   1450\u001b[0m \u001b[1;33m\u001b[0m\u001b[0m\n\u001b[0;32m   1451\u001b[0m         \u001b[1;31m# this is a bit kludgy\u001b[0m\u001b[1;33m\u001b[0m\u001b[1;33m\u001b[0m\u001b[1;33m\u001b[0m\u001b[0m\n",
      "\u001b[1;32m~\\Anaconda3\\envs\\pythonenv37\\lib\\site-packages\\pandas\\core\\reshape\\merge.py\u001b[0m in \u001b[0;36m_get_join_info\u001b[1;34m(self)\u001b[0m\n\u001b[0;32m    858\u001b[0m             )\n\u001b[0;32m    859\u001b[0m         \u001b[1;32melse\u001b[0m\u001b[1;33m:\u001b[0m\u001b[1;33m\u001b[0m\u001b[1;33m\u001b[0m\u001b[0m\n\u001b[1;32m--> 860\u001b[1;33m             \u001b[1;33m(\u001b[0m\u001b[0mleft_indexer\u001b[0m\u001b[1;33m,\u001b[0m \u001b[0mright_indexer\u001b[0m\u001b[1;33m)\u001b[0m \u001b[1;33m=\u001b[0m \u001b[0mself\u001b[0m\u001b[1;33m.\u001b[0m\u001b[0m_get_join_indexers\u001b[0m\u001b[1;33m(\u001b[0m\u001b[1;33m)\u001b[0m\u001b[1;33m\u001b[0m\u001b[1;33m\u001b[0m\u001b[0m\n\u001b[0m\u001b[0;32m    861\u001b[0m \u001b[1;33m\u001b[0m\u001b[0m\n\u001b[0;32m    862\u001b[0m             \u001b[1;32mif\u001b[0m \u001b[0mself\u001b[0m\u001b[1;33m.\u001b[0m\u001b[0mright_index\u001b[0m\u001b[1;33m:\u001b[0m\u001b[1;33m\u001b[0m\u001b[1;33m\u001b[0m\u001b[0m\n",
      "\u001b[1;32m~\\Anaconda3\\envs\\pythonenv37\\lib\\site-packages\\pandas\\core\\reshape\\merge.py\u001b[0m in \u001b[0;36m_get_join_indexers\u001b[1;34m(self)\u001b[0m\n\u001b[0;32m   1764\u001b[0m             \u001b[1;31m# choose appropriate function by type\u001b[0m\u001b[1;33m\u001b[0m\u001b[1;33m\u001b[0m\u001b[1;33m\u001b[0m\u001b[0m\n\u001b[0;32m   1765\u001b[0m             \u001b[0mfunc\u001b[0m \u001b[1;33m=\u001b[0m \u001b[0m_asof_function\u001b[0m\u001b[1;33m(\u001b[0m\u001b[0mself\u001b[0m\u001b[1;33m.\u001b[0m\u001b[0mdirection\u001b[0m\u001b[1;33m)\u001b[0m\u001b[1;33m\u001b[0m\u001b[1;33m\u001b[0m\u001b[0m\n\u001b[1;32m-> 1766\u001b[1;33m             \u001b[1;32mreturn\u001b[0m \u001b[0mfunc\u001b[0m\u001b[1;33m(\u001b[0m\u001b[0mleft_values\u001b[0m\u001b[1;33m,\u001b[0m \u001b[0mright_values\u001b[0m\u001b[1;33m,\u001b[0m \u001b[0mself\u001b[0m\u001b[1;33m.\u001b[0m\u001b[0mallow_exact_matches\u001b[0m\u001b[1;33m,\u001b[0m \u001b[0mtolerance\u001b[0m\u001b[1;33m)\u001b[0m\u001b[1;33m\u001b[0m\u001b[1;33m\u001b[0m\u001b[0m\n\u001b[0m\u001b[0;32m   1767\u001b[0m \u001b[1;33m\u001b[0m\u001b[0m\n\u001b[0;32m   1768\u001b[0m \u001b[1;33m\u001b[0m\u001b[0m\n",
      "\u001b[1;32mpandas\\_libs\\join.pyx\u001b[0m in \u001b[0;36mpandas._libs.join.__pyx_fused_cpdef\u001b[1;34m()\u001b[0m\n",
      "\u001b[1;31mTypeError\u001b[0m: No matching signature found"
     ]
    }
   ],
   "source": [
    "# Sorting both datasets and merging\n",
    "original_fortune_data = original_fortune_data.sort_values(by=['title'])\n",
    "s_and_p_data = s_and_p_data.sort_values(by=['title'])\n",
    "merged_fortune_data = pd.merge_asof(original_fortune_data, s_and_p_data, on = 'title' , direction='nearest')"
   ]
  },
  {
   "cell_type": "code",
   "execution_count": null,
   "metadata": {},
   "outputs": [],
   "source": []
  },
  {
   "cell_type": "code",
   "execution_count": null,
   "metadata": {},
   "outputs": [],
   "source": []
  }
 ],
 "metadata": {
  "kernelspec": {
   "display_name": "Python 3",
   "language": "python",
   "name": "python3"
  },
  "language_info": {
   "codemirror_mode": {
    "name": "ipython",
    "version": 3
   },
   "file_extension": ".py",
   "mimetype": "text/x-python",
   "name": "python",
   "nbconvert_exporter": "python",
   "pygments_lexer": "ipython3",
   "version": "3.7.3"
  }
 },
 "nbformat": 4,
 "nbformat_minor": 2
}
